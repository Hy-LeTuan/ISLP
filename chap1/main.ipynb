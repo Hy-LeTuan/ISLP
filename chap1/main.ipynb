{
 "cells": [
  {
   "cell_type": "code",
   "execution_count": 1,
   "metadata": {},
   "outputs": [],
   "source": [
    "import polars as pl\n",
    "import os"
   ]
  },
  {
   "cell_type": "code",
   "execution_count": 13,
   "metadata": {},
   "outputs": [],
   "source": [
    "dataframe = pl.read_csv(os.path.join(\"..\", \"dataset\", \"Advertising.csv\"))"
   ]
  },
  {
   "cell_type": "code",
   "execution_count": 14,
   "metadata": {},
   "outputs": [
    {
     "name": "stdout",
     "output_type": "stream",
     "text": [
      "shape: (200, 5)\n",
      "┌─────┬───────┬───────┬───────────┬───────┐\n",
      "│     ┆ TV    ┆ radio ┆ newspaper ┆ sales │\n",
      "│ --- ┆ ---   ┆ ---   ┆ ---       ┆ ---   │\n",
      "│ i64 ┆ f64   ┆ f64   ┆ f64       ┆ f64   │\n",
      "╞═════╪═══════╪═══════╪═══════════╪═══════╡\n",
      "│ 1   ┆ 230.1 ┆ 37.8  ┆ 69.2      ┆ 22.1  │\n",
      "│ 2   ┆ 44.5  ┆ 39.3  ┆ 45.1      ┆ 10.4  │\n",
      "│ 3   ┆ 17.2  ┆ 45.9  ┆ 69.3      ┆ 9.3   │\n",
      "│ 4   ┆ 151.5 ┆ 41.3  ┆ 58.5      ┆ 18.5  │\n",
      "│ 5   ┆ 180.8 ┆ 10.8  ┆ 58.4      ┆ 12.9  │\n",
      "│ …   ┆ …     ┆ …     ┆ …         ┆ …     │\n",
      "│ 196 ┆ 38.2  ┆ 3.7   ┆ 13.8      ┆ 7.6   │\n",
      "│ 197 ┆ 94.2  ┆ 4.9   ┆ 8.1       ┆ 9.7   │\n",
      "│ 198 ┆ 177.0 ┆ 9.3   ┆ 6.4       ┆ 12.8  │\n",
      "│ 199 ┆ 283.6 ┆ 42.0  ┆ 66.2      ┆ 25.5  │\n",
      "│ 200 ┆ 232.1 ┆ 8.6   ┆ 8.7       ┆ 13.4  │\n",
      "└─────┴───────┴───────┴───────────┴───────┘\n"
     ]
    }
   ],
   "source": [
    "print(dataframe)"
   ]
  },
  {
   "cell_type": "code",
   "execution_count": 15,
   "metadata": {},
   "outputs": [
    {
     "name": "stdout",
     "output_type": "stream",
     "text": [
      "shape: (200,)\n",
      "Series: 'TV' [f64]\n",
      "[\n",
      "\t230.1\n",
      "\t44.5\n",
      "\t17.2\n",
      "\t151.5\n",
      "\t180.8\n",
      "\t…\n",
      "\t38.2\n",
      "\t94.2\n",
      "\t177.0\n",
      "\t283.6\n",
      "\t232.1\n",
      "]\n"
     ]
    }
   ],
   "source": [
    "column = dataframe.get_column(\"TV\")\n",
    "print(column)"
   ]
  }
 ],
 "metadata": {
  "kernelspec": {
   "display_name": "islp",
   "language": "python",
   "name": "python3"
  },
  "language_info": {
   "codemirror_mode": {
    "name": "ipython",
    "version": 3
   },
   "file_extension": ".py",
   "mimetype": "text/x-python",
   "name": "python",
   "nbconvert_exporter": "python",
   "pygments_lexer": "ipython3",
   "version": "3.10.16"
  }
 },
 "nbformat": 4,
 "nbformat_minor": 2
}
